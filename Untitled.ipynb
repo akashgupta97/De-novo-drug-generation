{
 "cells": [
  {
   "cell_type": "code",
   "execution_count": 5,
   "metadata": {},
   "outputs": [],
   "source": [
    "from torch.nn.utils.rnn import pad_sequence"
   ]
  },
  {
   "cell_type": "code",
   "execution_count": null,
   "metadata": {},
   "outputs": [],
   "source": [
    "data_filename = \"datasets/dat\"\n",
    "with open()"
   ]
  },
  {
   "cell_type": "code",
   "execution_count": null,
   "metadata": {},
   "outputs": [],
   "source": [
    "def split_smiles(smiles):\n",
    "    smiles = padding[0] + smiles + padding[2]\n",
    "    N = len(smiles)\n",
    "    i=0\n",
    "    smi_arr = []\n",
    "    while(i<N):\n",
    "        substr = smiles[i:i+2]\n",
    "        if substr in atoms or substr in special:\n",
    "            smi_arr.append(substr)\n",
    "            i+=2\n",
    "        else:\n",
    "            smi_arr.append(smiles[i])\n",
    "            i+=1\n",
    "    return smi_arr"
   ]
  }
 ],
 "metadata": {
  "kernelspec": {
   "display_name": "my-rdkit-env",
   "language": "python",
   "name": "my-rdkit-env"
  },
  "language_info": {
   "codemirror_mode": {
    "name": "ipython",
    "version": 3
   },
   "file_extension": ".py",
   "mimetype": "text/x-python",
   "name": "python",
   "nbconvert_exporter": "python",
   "pygments_lexer": "ipython3",
   "version": "3.6.10"
  }
 },
 "nbformat": 4,
 "nbformat_minor": 2
}
